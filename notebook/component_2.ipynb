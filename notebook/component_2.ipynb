{
 "cells": [
  {
   "cell_type": "code",
   "execution_count": 1,
   "id": "aa08a8a3",
   "metadata": {},
   "outputs": [],
   "source": [
    "%load_ext autoreload\n",
    "%autoreload 2\n",
    "%config InlineBackend.figure_format = 'retina'\n"
   ]
  },
  {
   "cell_type": "code",
   "execution_count": 2,
   "id": "f863e9ae",
   "metadata": {},
   "outputs": [
    {
     "name": "stdout",
     "output_type": "stream",
     "text": [
      "/home/kyudan/AnomLLM\n",
      "/home/kyudan/AnomLLM/src\n"
     ]
    },
    {
     "data": {
      "text/plain": [
       "'/home/kyudan/AnomLLM/src'"
      ]
     },
     "execution_count": 2,
     "metadata": {},
     "output_type": "execute_result"
    }
   ],
   "source": [
    "%pwd\n",
    "%cd ..\n",
    "%cd src\n",
    "%pwd"
   ]
  },
  {
   "cell_type": "code",
   "execution_count": 3,
   "id": "7d228f15",
   "metadata": {},
   "outputs": [],
   "source": [
    "#Please edit the BASE_DIR on your situation.\n",
    "\n",
    "BASE_DIR = \"/home/kyudan/AnomLLM\""
   ]
  },
  {
   "cell_type": "code",
   "execution_count": 4,
   "id": "edd1bb1a",
   "metadata": {},
   "outputs": [],
   "source": [
    "def make_component_prompt(time_series):\n",
    "        \n",
    "    COMPONENT_PROMPT = f\"\"\"Time series data can typically be decomposed into four main components: Trend, Seasonality, Noise, and Anomalies.\n",
    "\n",
    "The four components exhibit the following characteristics:\n",
    "* Trend: A long-term directional pattern or consistent upward/downward movement.\n",
    "* Seasonality: Regular and predictable cycles repeating at consistent intervals.\n",
    "* Noise: Random, irregular fluctuations without a meaningful pattern.\n",
    "* Anomalies: Observations significantly deviating from typical or expected patterns.\n",
    "\n",
    "Below is the given time series data:\n",
    "{time_series}\n",
    "\n",
    "Analyze the provided time series carefully and decompose it into its components.\n",
    "Extract the numerical values for each component (Trend, Seasonality, Noise, Anomalies) from the original time series.\n",
    "\n",
    "Please return your decomposition as a sequence of decimal strings separated by spaces (\" \") for each component, maintaining the same length as the original time series.\n",
    "\n",
    "Provide your answer strictly in the following JSON format:\n",
    "{{\n",
    "  \"Trend\": [trend values as space-separated decimal strings],\n",
    "  \"Seasonality\": [seasonality values as space-separated decimal strings],\n",
    "  \"Noise\": [noise values as space-separated decimal strings],\n",
    "  \"Anomalies\": [anomaly values as space-separated decimal strings, with 0 for non-anomalous points]\n",
    "}}\n",
    "\n",
    "Do not produce any additional text, just return the decomposed components in the JSON format specified above.\n",
    "\"\"\"\n",
    "    return COMPONENT_PROMPT"
   ]
  },
  {
   "cell_type": "code",
   "execution_count": 5,
   "id": "1e055aa4",
   "metadata": {},
   "outputs": [],
   "source": [
    "from prompt import LIMIT_PROMPT,PROMPT, time_series_to_str\n",
    "\n",
    "\n",
    "def create_component_prompt(\n",
    "        idx,\n",
    "        series,\n",
    "):\n",
    "\n",
    "    messages = [\n",
    "        {\n",
    "            \"role\": \"user\",\n",
    "            \"content\": make_component_prompt(time_series_to_str(series[idx]))\n",
    "        }\n",
    "    ]\n",
    "    if idx == 0:\n",
    "        print(messages[0][\"content\"])\n",
    "    return {\n",
    "        \"messages\": messages,\n",
    "        \"temperature\": 0.4,\n",
    "        \"stop\": [\"''''\", \" – –\", \"<|endoftext|>\", \"<|eot_id|>\"]\n",
    "    }\n"
   ]
  },
  {
   "cell_type": "code",
   "execution_count": 7,
   "id": "bca43f4b",
   "metadata": {},
   "outputs": [],
   "source": [
    "from openai_api import send_openai_request\n",
    "import json\n",
    "import time\n",
    "import os\n",
    "from loguru import logger\n",
    "from data.synthetic import SyntheticDataset\n",
    "import pandas as pd\n",
    "\n",
    "\n",
    "\n",
    "def online_AD_with_retries_component(\n",
    "    model_name: str,\n",
    "    pcl_name: str,\n",
    "    #data_name: str,\n",
    "    #request_func: callable,\n",
    "    #variant: str = \"standard\",\n",
    "    num_retries: int = 4,\n",
    "\n",
    "):\n",
    "    df = pd.read_pickle(pcl_name)\n",
    "\n",
    "    # Initialize dictionary to store results\n",
    "    results = {}\n",
    "\n",
    "    # Configure logger\n",
    "    log_fn = f\"logs/synthetic/{pcl_name}/{model_name}/\" + \".log\"\n",
    "    logger.add(log_fn, format=\"{time} {level} {message}\", level=\"INFO\")\n",
    "    results_dir = f'{BASE_DIR}/results/synthetic/{pcl_name}/{model_name}/'\n",
    "    jsonl_fn = os.path.join(results_dir + 'component_2.jsonl')\n",
    "    os.makedirs(results_dir, exist_ok=True)\n",
    "\n",
    "    if os.path.exists(jsonl_fn):\n",
    "        logger.error(f\"Results file '{jsonl_fn}' already exists. Please delete it first to avoid duplicate entries.\")\n",
    "        print(f\"Results file '{jsonl_fn}' already exists. Please delete it and run again.\")\n",
    "        return None\n",
    "\n",
    "    for i in range(1, len(df)+1):\n",
    "        custom_id = f\"{pcl_name}_{model_name}_{str(i).zfill(5)}\"\n",
    "        series = df['series_values']\n",
    "\n",
    "        # Perform anomaly detection with exponential backoff\n",
    "        for attempt in range(num_retries):\n",
    "            try:\n",
    "                request = create_component_prompt(i-1, series)\n",
    "                response = send_openai_request(request, model_name)\n",
    "                \n",
    "                # Write the result to jsonl\n",
    "                with open(jsonl_fn, 'a') as f:\n",
    "                    json.dump({'custom_id': custom_id, 'request': request, 'response': response}, f)\n",
    "                    f.write('\\n')\n",
    "                # If successful, break the retry loop\n",
    "                break\n",
    "            except Exception as e:\n",
    "                if \"503\" in str(e):  # Server not up yet, sleep until the server is up again\n",
    "                    while True:\n",
    "                        logger.debug(\"503 error, sleep 30 seconds\")\n",
    "                        time.sleep(30)\n",
    "                        try:\n",
    "                            response = send_openai_request(request, model_name)\n",
    "                            break\n",
    "                        except Exception as e:\n",
    "                            if \"503\" not in str(e):\n",
    "                                break\n",
    "                else:\n",
    "                    logger.error(e)\n",
    "                    # If an exception occurs, wait and then retry\n",
    "                    wait_time = 2 ** (attempt + 3)\n",
    "                    logger.debug(f\"Attempt {attempt + 1} failed. Waiting for {wait_time} seconds before retrying...\")\n",
    "                    time.sleep(wait_time)\n",
    "                    continue\n",
    "        else:\n",
    "            logger.error(f\"Failed to process {custom_id} after {num_retries} attempts\")"
   ]
  },
  {
   "cell_type": "code",
   "execution_count": 8,
   "id": "d9bb25aa",
   "metadata": {},
   "outputs": [
    {
     "name": "stderr",
     "output_type": "stream",
     "text": [
      "\u001b[32m2025-04-11 16:15:41.189\u001b[0m | \u001b[34m\u001b[1mDEBUG   \u001b[0m | \u001b[36mgemini_api\u001b[0m:\u001b[36msend_gemini_request\u001b[0m:\u001b[36m93\u001b[0m - \u001b[34m\u001b[1mAPI key: ***********************************M5D0\u001b[0m\n"
     ]
    },
    {
     "name": "stdout",
     "output_type": "stream",
     "text": [
      "Time series data can typically be decomposed into four main components: Trend, Seasonality, Noise, and Anomalies.\n",
      "\n",
      "The four components exhibit the following characteristics:\n",
      "* Trend: A long-term directional pattern or consistent upward/downward movement.\n",
      "* Seasonality: Regular and predictable cycles repeating at consistent intervals.\n",
      "* Noise: Random, irregular fluctuations without a meaningful pattern.\n",
      "* Anomalies: Observations significantly deviating from typical or expected patterns.\n",
      "\n",
      "Below is the given time series data:\n",
      "-0.63 -0.57 -0.52 -0.47 -0.42 -0.38 -0.33 -0.3 -0.26 -0.24 -0.22 -0.2 -0.2 -0.19 -0.2 -0.21 -0.23 -0.25 -0.28 -0.32 -0.36 -0.4 -0.45 -0.5 -0.55 -0.6 -0.65 -0.7 -0.75 -0.79 -0.84 -0.88 -0.91 -0.94 -0.96 -0.98 -0.99 -1.0 -1.0 -0.99 -0.98 -0.96 -0.93 -0.9 -0.86 -0.82 -0.77 -0.72 -0.67 -0.62 -0.57 -0.51 -0.46 -0.41 -0.36 -0.31 -0.27 -0.23 -0.2 -0.18 -0.15 -0.14 -0.13 -0.13 -0.14 -0.15 -0.17 -0.19 -0.22 -0.25 -0.29 -0.34 -0.38 -0.43 -0.48 -0.53 -0.59 -0.64 -0.68 -0.73 -0.77 -0.81 -0.85 -0.88 -0.9 -0.92 -0.93 -0.94 -0.94 -0.93 -0.91 -0.89 -0.87 -0.83 -0.8 -0.76 -0.71 -0.66 -0.61 -0.56 -0.5 -0.45 -0.4 -0.34 -0.3 -0.25 -0.21 -0.17 -0.14 -0.11 -0.09 -0.08 -0.07 -0.07 -0.07 -0.09 -0.1 -0.13 -0.16 -0.19 -0.23 -0.27 -0.32 -0.37 -0.42 -0.47 -0.52 -0.57 -0.62 -0.67 -0.71 -0.75 -0.79 -0.81 -0.84 -0.86 -0.87 -0.87 -0.87 -0.87 -0.85 -0.83 -0.8 -0.77 -0.73 -0.69 -0.65 -0.6 -0.55 -0.49 -0.44 -0.39 -0.33 -0.28 -0.23 -0.19 -0.15 -0.11 -0.08 -0.05 -0.03 -0.01 -0.01 -0.01 -0.01 -0.02 -0.04 -0.06 -0.09 -0.13 -0.17 -0.21 -0.26 -0.31 -0.36 -0.41 -0.46 -0.51 -0.56 -0.61 -0.65 -0.69 -0.72 -0.75 -0.78 -0.79 -0.81 -0.81 -0.81 -0.8 -0.79 -0.77 -0.74 -0.71 -0.67 -0.63 -0.58 -0.54 -0.48 -0.43 -0.38 -0.32 -0.27 -0.22 -0.17 -0.12 -0.08 -0.05 -0.01 0.01 0.03 0.05 0.06 0.06 0.05 0.04 0.02 -0.0 -0.03 -0.07 -0.11 -0.15 -0.2 -0.24 -0.29 -0.35 -0.4 -0.45 -0.5 -0.54 -0.59 -0.62 -0.66 -0.69 -0.71 -0.73 -0.74 -0.75 -0.75 -0.74 -0.73 -0.7 -0.68 -0.65 -0.61 -0.57 -0.52 -0.47 -0.42 -0.37 -0.31 -0.26 -0.21 -0.16 -0.11 -0.06 -0.02 0.02 0.05 0.08 0.1 0.11 0.12 0.12 0.11 0.1 0.08 0.06 0.03 -0.0 -0.04 -0.09 -0.13 -0.18 -0.23 -0.28 -0.33 -0.38 -0.43 -0.48 -0.52 -0.56 -0.6 -0.63 -0.65 -0.67 -0.68 -0.69 -0.68 -0.68 -0.66 -0.64 -0.62 -0.58 -0.55 -0.5 -0.46 -0.41 -0.36 -0.31 -0.25 -0.2 -0.14 -0.09 -0.04 0.0 0.04 0.08 0.11 0.14 0.16 0.17 0.18 0.18 0.18 0.17 0.15 0.12 0.09 0.06 0.02 -0.02 -0.07 -0.12 -0.17 -0.22 -0.27 -0.32 -0.37 -0.42 -0.46 -0.5 -0.53 -0.56 -0.59 -0.61 -0.62 -0.62 -0.62 -0.61 -0.6 -0.58 -0.55 -0.52 -0.48 -0.44 -0.4 -0.35 -0.3 -0.24 -0.19 -0.13 -0.08 -0.03 0.02 0.06 0.11 0.14 0.18 0.2 0.22 0.24 0.24 0.25 0.24 0.23 0.21 0.19 0.16 0.12 0.08 0.04 -0.01 -0.06 -0.11 -0.16 -0.21 -0.26 -0.31 -0.35 -0.4 -0.44 -0.47 -0.5 -0.52 -0.54 -0.55 -0.56 -0.56 -0.55 -0.54 -0.52 -0.49 -0.46 -0.42 -0.38 -0.33 -0.28 -0.23 -0.18 -0.13 -0.07 -0.02 0.03 0.08 0.13 0.17 0.21 0.24 0.26 0.29 0.3 0.31 0.31 0.3 0.29 0.27 0.25 0.22 0.18 0.15 0.1 0.06 0.01 -0.04 -0.09 -0.15 -0.2 -0.24 -0.29 -0.33 -0.37 -0.41 -0.44 -0.46 -0.48 -0.49 -0.5 -0.5 -0.49 -0.47 -0.45 -0.43 -0.39 -0.36 -0.32 -0.27 -0.22 -0.17 -0.12 -0.06 -0.01 0.04 0.1 0.14 0.19 0.23 0.27 0.3 0.33 0.35 0.36 0.37 0.37 0.37 0.35 0.34 0.31 0.28 0.25 0.21 0.17 0.12 0.07 0.02 -0.03 -0.08 -0.13 -0.18 -0.23 -0.27 -0.31 -0.35 -0.38 -0.4 -0.42 -0.43 -0.43 -0.43 -0.43 -0.41 -0.39 -0.36 -0.33 -0.29 -0.25 -0.21 -0.16 -0.11 -0.05 0.0 0.05 0.11 0.16 0.21 0.25 0.29 0.33 0.36 0.39 0.41 0.43 0.43 0.43 0.43 0.42 0.4 0.38 0.35 0.31 0.27 0.23 0.18 0.13 0.08 0.03 -0.02 -0.07 -0.12 -0.17 -0.21 -0.25 -0.28 -0.31 -0.34 -0.35 -0.37 -0.37 -0.37 -0.36 -0.35 -0.33 -0.3 -0.27 -0.23 -0.19 -0.14 -0.1 -0.04 0.01 0.06 0.12 0.17 0.22 0.27 0.32 0.36 0.39 0.43 0.45 0.47 0.49 0.5 0.5 0.49 0.48 0.46 0.44 0.41 0.37 0.33 0.29 0.24 0.2 0.15 0.09 0.04 -0.01 -0.06 -0.1 -0.15 -0.18 -0.22 -0.25 -0.27 -0.29 -0.3 -0.31 -0.31 -0.3 -0.29 -0.26 -0.24 -0.21 -0.17 -0.13 -0.08 -0.03 0.02 0.07 0.13 0.18 0.23 0.28 0.33 0.38 0.42 0.46 0.49 0.52 0.54 0.55 0.56 0.56 0.55 0.54 0.52 0.5 0.47 0.44 0.4 0.35 0.31 0.26 0.21 0.16 0.11 0.06 0.01 -0.04 -0.08 -0.12 -0.16 -0.19 -0.21 -0.23 -0.24 -0.25 -0.24 -0.24 -0.22 -0.2 -0.18 -0.14 -0.11 -0.06 -0.02 0.03 0.08 0.13 0.19 0.24 0.3 0.35 0.4 0.44 0.48 0.52 0.55 0.58 0.6 0.61 0.62 0.62 0.62 0.61 0.59 0.56 0.53 0.5 0.46 0.42 0.37 0.32 0.27 0.22 0.17 0.12 0.07 0.02 -0.02 -0.06 -0.09 -0.12 -0.15 -0.17 -0.18 -0.18 -0.18 -0.17 -0.16 -0.14 -0.11 -0.08 -0.04 -0.0 0.04 0.09 0.14 0.2 0.25 0.31 0.36 0.41 0.46 0.5 0.55 0.58 0.62 0.64 0.66 0.68 0.68 0.69 0.68 0.67 0.65 0.63 0.6 0.56 0.52 0.48 0.43 0.38 0.33 0.28 0.23 0.18 0.13 0.09 0.04 0.0 -0.03 -0.06 -0.08 -0.1 -0.11 -0.12 -0.12 -0.11 -0.1 -0.08 -0.05 -0.02 0.02 0.06 0.11 0.16 0.21 0.26 0.31 0.37 0.42 0.47 0.52 0.57 0.61 0.65 0.68 0.7 0.73 0.74 0.75 0.75 0.74 0.73 0.71 0.69 0.66 0.62 0.59 0.54 0.5 0.45 0.4 0.35 0.29 0.24 0.2 0.15 0.11 0.07 0.03 0.0 -0.02 -0.04 -0.05 -0.06 -0.06 -0.05 -0.03 -0.01 0.01 0.05 0.08 0.12 0.17 0.22 0.27 0.32 0.38 0.43 0.48 0.54 0.58 0.63 0.67 0.71 0.74 0.77 0.79 0.8 0.81 0.81 0.81 0.79 0.78 0.75 0.72 0.69 0.65 0.61 0.56 0.51 0.46 0.41 0.36 0.31 0.26 0.21 0.17 0.13 0.09 0.06 0.04 0.02 0.01 0.01 0.01 0.01 0.03 0.05 0.08 0.11 0.15 0.19 0.23 0.28 0.33 0.39 0.44 0.49 0.55 0.6 0.65 0.69 0.73 0.77 0.8 0.83 0.85 0.87 0.87 0.87 0.87 0.86 0.84 0.81 0.79 0.75 0.71 0.67 0.62 0.57 0.52 0.47 0.42 0.37 0.32 0.27 0.23 0.19 0.16 0.13 0.1 0.09 0.07 0.07 0.07 0.08 0.09 0.11 0.14 0.17 0.21 0.25 0.3 0.34 0.4 0.45 0.5 0.56 0.61 0.66 0.71 0.76 0.8 0.83 0.87 0.89 0.91 0.93 0.94 0.94 0.93 0.92 0.9 0.88 0.85 0.81 0.77 0.73 0.68 0.64 0.59 0.53 0.48 0.43 0.38 0.34 0.29 0.25 0.22 0.19 0.17 0.15 0.14 0.13 0.13 0.14 0.15 0.18 0.2 0.23 0.27 0.31 0.36 0.41 0.46 0.51 0.57 0.62 0.67 0.72 0.77 0.82 0.86 0.9 0.93 0.96 0.98 0.99 1.0 1.0 0.99 0.98 0.96 0.94 0.91 0.88 0.84 0.79 0.75 0.7 0.65 0.6 0.55 0.5 0.45 0.4 0.36 0.32 0.28 0.25 0.23 0.21 0.2 0.19 0.2 0.2 0.22 0.24 0.26 0.3 0.33 0.38 0.42 0.47 0.52 0.57\n",
      "\n",
      "Analyze the provided time series carefully and decompose it into its components.\n",
      "Extract the numerical values for each component (Trend, Seasonality, Noise, Anomalies) from the original time series.\n",
      "\n",
      "Please return your decomposition as a sequence of decimal strings separated by spaces (\" \") for each component, maintaining the same length as the original time series.\n",
      "\n",
      "Provide your answer strictly in the following JSON format:\n",
      "{\n",
      "  \"Trend\": [trend values as space-separated decimal strings],\n",
      "  \"Seasonality\": [seasonality values as space-separated decimal strings],\n",
      "  \"Noise\": [noise values as space-separated decimal strings],\n",
      "  \"Anomalies\": [anomaly values as space-separated decimal strings, with 0 for non-anomalous points]\n",
      "}\n",
      "\n",
      "Do not produce any additional text, just return the decomposed components in the JSON format specified above.\n",
      "\n"
     ]
    },
    {
     "name": "stderr",
     "output_type": "stream",
     "text": [
      "\u001b[32m2025-04-11 16:16:34.877\u001b[0m | \u001b[34m\u001b[1mDEBUG   \u001b[0m | \u001b[36mgemini_api\u001b[0m:\u001b[36msend_gemini_request\u001b[0m:\u001b[36m93\u001b[0m - \u001b[34m\u001b[1mAPI key: ***********************************M5D0\u001b[0m\n",
      "\u001b[32m2025-04-11 16:17:28.661\u001b[0m | \u001b[34m\u001b[1mDEBUG   \u001b[0m | \u001b[36mgemini_api\u001b[0m:\u001b[36msend_gemini_request\u001b[0m:\u001b[36m93\u001b[0m - \u001b[34m\u001b[1mAPI key: ***********************************M5D0\u001b[0m\n",
      "\u001b[32m2025-04-11 16:18:21.542\u001b[0m | \u001b[34m\u001b[1mDEBUG   \u001b[0m | \u001b[36mgemini_api\u001b[0m:\u001b[36msend_gemini_request\u001b[0m:\u001b[36m93\u001b[0m - \u001b[34m\u001b[1mAPI key: ***********************************M5D0\u001b[0m\n",
      "\u001b[32m2025-04-11 16:19:15.625\u001b[0m | \u001b[34m\u001b[1mDEBUG   \u001b[0m | \u001b[36mgemini_api\u001b[0m:\u001b[36msend_gemini_request\u001b[0m:\u001b[36m93\u001b[0m - \u001b[34m\u001b[1mAPI key: ***********************************M5D0\u001b[0m\n",
      "\u001b[32m2025-04-11 16:20:09.833\u001b[0m | \u001b[34m\u001b[1mDEBUG   \u001b[0m | \u001b[36mgemini_api\u001b[0m:\u001b[36msend_gemini_request\u001b[0m:\u001b[36m93\u001b[0m - \u001b[34m\u001b[1mAPI key: ***********************************M5D0\u001b[0m\n",
      "\u001b[32m2025-04-11 16:21:03.389\u001b[0m | \u001b[34m\u001b[1mDEBUG   \u001b[0m | \u001b[36mgemini_api\u001b[0m:\u001b[36msend_gemini_request\u001b[0m:\u001b[36m93\u001b[0m - \u001b[34m\u001b[1mAPI key: ***********************************M5D0\u001b[0m\n"
     ]
    },
    {
     "ename": "KeyboardInterrupt",
     "evalue": "",
     "output_type": "error",
     "traceback": [
      "\u001b[0;31m---------------------------------------------------------------------------\u001b[0m",
      "\u001b[0;31mKeyboardInterrupt\u001b[0m                         Traceback (most recent call last)",
      "Cell \u001b[0;32mIn[8], line 2\u001b[0m\n\u001b[1;32m      1\u001b[0m pcl_name \u001b[38;5;241m=\u001b[39m \u001b[38;5;124m\"\u001b[39m\u001b[38;5;124m../data/synthetic/component_series_400.pkl\u001b[39m\u001b[38;5;124m\"\u001b[39m\n\u001b[0;32m----> 2\u001b[0m \u001b[43monline_AD_with_retries_component\u001b[49m\u001b[43m(\u001b[49m\u001b[38;5;124;43m'\u001b[39;49m\u001b[38;5;124;43mgemini-1.5-flash\u001b[39;49m\u001b[38;5;124;43m'\u001b[39;49m\u001b[43m,\u001b[49m\u001b[43m \u001b[49m\u001b[43mpcl_name\u001b[49m\u001b[43m)\u001b[49m\n",
      "Cell \u001b[0;32mIn[7], line 45\u001b[0m, in \u001b[0;36monline_AD_with_retries_component\u001b[0;34m(model_name, pcl_name, num_retries)\u001b[0m\n\u001b[1;32m     43\u001b[0m \u001b[38;5;28;01mtry\u001b[39;00m:\n\u001b[1;32m     44\u001b[0m     request \u001b[38;5;241m=\u001b[39m create_component_prompt(i\u001b[38;5;241m-\u001b[39m\u001b[38;5;241m1\u001b[39m, series)\n\u001b[0;32m---> 45\u001b[0m     response \u001b[38;5;241m=\u001b[39m \u001b[43msend_openai_request\u001b[49m\u001b[43m(\u001b[49m\u001b[43mrequest\u001b[49m\u001b[43m,\u001b[49m\u001b[43m \u001b[49m\u001b[43mmodel_name\u001b[49m\u001b[43m)\u001b[49m\n\u001b[1;32m     47\u001b[0m     \u001b[38;5;66;03m# Write the result to jsonl\u001b[39;00m\n\u001b[1;32m     48\u001b[0m     \u001b[38;5;28;01mwith\u001b[39;00m \u001b[38;5;28mopen\u001b[39m(jsonl_fn, \u001b[38;5;124m'\u001b[39m\u001b[38;5;124ma\u001b[39m\u001b[38;5;124m'\u001b[39m) \u001b[38;5;28;01mas\u001b[39;00m f:\n",
      "File \u001b[0;32m~/AnomLLM/src/openai_api.py:45\u001b[0m, in \u001b[0;36msend_openai_request\u001b[0;34m(openai_request, model, api_key, base_url)\u001b[0m\n\u001b[1;32m     38\u001b[0m \u001b[38;5;28;01mdef\u001b[39;00m \u001b[38;5;21msend_openai_request\u001b[39m(\n\u001b[1;32m     39\u001b[0m     openai_request,\n\u001b[1;32m     40\u001b[0m     model,\n\u001b[1;32m     41\u001b[0m     api_key\u001b[38;5;241m=\u001b[39m\u001b[38;5;28;01mNone\u001b[39;00m,\n\u001b[1;32m     42\u001b[0m     base_url\u001b[38;5;241m=\u001b[39m\u001b[38;5;124m\"\u001b[39m\u001b[38;5;124mhttps://api.openai.com/v1\u001b[39m\u001b[38;5;124m\"\u001b[39m\n\u001b[1;32m     43\u001b[0m ):\n\u001b[1;32m     44\u001b[0m     \u001b[38;5;28;01mif\u001b[39;00m \u001b[38;5;124m\"\u001b[39m\u001b[38;5;124mgemini\u001b[39m\u001b[38;5;124m\"\u001b[39m \u001b[38;5;129;01min\u001b[39;00m model:\n\u001b[0;32m---> 45\u001b[0m         \u001b[38;5;28;01mreturn\u001b[39;00m \u001b[43msend_gemini_request\u001b[49m\u001b[43m(\u001b[49m\n\u001b[1;32m     46\u001b[0m \u001b[43m            \u001b[49m\u001b[43mconvert_openai_to_gemini\u001b[49m\u001b[43m(\u001b[49m\u001b[43mopenai_request\u001b[49m\u001b[43m)\u001b[49m\u001b[43m,\u001b[49m\n\u001b[1;32m     47\u001b[0m \u001b[43m            \u001b[49m\u001b[43mmodel\u001b[49m\u001b[43m,\u001b[49m\n\u001b[1;32m     48\u001b[0m \u001b[43m            \u001b[49m\u001b[43mapi_key\u001b[49m\u001b[38;5;241;43m=\u001b[39;49m\u001b[43mapi_key\u001b[49m\n\u001b[1;32m     49\u001b[0m \u001b[43m        \u001b[49m\u001b[43m)\u001b[49m\n\u001b[1;32m     50\u001b[0m     client \u001b[38;5;241m=\u001b[39m openai_client(model, api_key\u001b[38;5;241m=\u001b[39mapi_key, base_url\u001b[38;5;241m=\u001b[39mbase_url)\n\u001b[1;32m     52\u001b[0m     response \u001b[38;5;241m=\u001b[39m client\u001b[38;5;241m.\u001b[39mchat\u001b[38;5;241m.\u001b[39mcompletions\u001b[38;5;241m.\u001b[39mcreate(\n\u001b[1;32m     53\u001b[0m         model\u001b[38;5;241m=\u001b[39mmodel, \u001b[38;5;241m*\u001b[39m\u001b[38;5;241m*\u001b[39mopenai_request\n\u001b[1;32m     54\u001b[0m     )\n",
      "File \u001b[0;32m~/AnomLLM/src/gemini_api.py:97\u001b[0m, in \u001b[0;36msend_gemini_request\u001b[0;34m(gemini_request, model, api_key)\u001b[0m\n\u001b[1;32m     91\u001b[0m model \u001b[38;5;241m=\u001b[39m genai\u001b[38;5;241m.\u001b[39mGenerativeModel(model)\n\u001b[1;32m     93\u001b[0m logger\u001b[38;5;241m.\u001b[39mdebug(\n\u001b[1;32m     94\u001b[0m     \u001b[38;5;124mf\u001b[39m\u001b[38;5;124m\"\u001b[39m\u001b[38;5;124mAPI key: \u001b[39m\u001b[38;5;132;01m{\u001b[39;00m\u001b[38;5;124m'\u001b[39m\u001b[38;5;124m*\u001b[39m\u001b[38;5;124m'\u001b[39m\u001b[38;5;250m \u001b[39m\u001b[38;5;241m*\u001b[39m\u001b[38;5;250m \u001b[39m(\u001b[38;5;28mlen\u001b[39m(api_key)\u001b[38;5;250m \u001b[39m\u001b[38;5;241m-\u001b[39m\u001b[38;5;250m \u001b[39m\u001b[38;5;241m4\u001b[39m)\u001b[38;5;132;01m}\u001b[39;00m\u001b[38;5;132;01m{\u001b[39;00mapi_key[\u001b[38;5;241m-\u001b[39m\u001b[38;5;241m4\u001b[39m:]\u001b[38;5;132;01m}\u001b[39;00m\u001b[38;5;124m\"\u001b[39m\n\u001b[1;32m     95\u001b[0m )\n\u001b[0;32m---> 97\u001b[0m response \u001b[38;5;241m=\u001b[39m \u001b[43mmodel\u001b[49m\u001b[38;5;241;43m.\u001b[39;49m\u001b[43mgenerate_content\u001b[49m\u001b[43m(\u001b[49m\n\u001b[1;32m     98\u001b[0m \u001b[43m    \u001b[49m\u001b[38;5;241;43m*\u001b[39;49m\u001b[38;5;241;43m*\u001b[39;49m\u001b[43mgemini_request\u001b[49m\u001b[43m,\u001b[49m\n\u001b[1;32m     99\u001b[0m \u001b[43m    \u001b[49m\u001b[43msafety_settings\u001b[49m\u001b[38;5;241;43m=\u001b[39;49m\u001b[43mSAFETY_SETTINGS\u001b[49m\u001b[43m,\u001b[49m\n\u001b[1;32m    100\u001b[0m \u001b[43m\u001b[49m\u001b[43m)\u001b[49m\n\u001b[1;32m    101\u001b[0m \u001b[38;5;28;01mreturn\u001b[39;00m response\u001b[38;5;241m.\u001b[39mtext\n",
      "File \u001b[0;32m~/anaconda3/envs/anomllm/lib/python3.10/site-packages/google/generativeai/generative_models.py:331\u001b[0m, in \u001b[0;36mGenerativeModel.generate_content\u001b[0;34m(self, contents, generation_config, safety_settings, stream, tools, tool_config, request_options)\u001b[0m\n\u001b[1;32m    329\u001b[0m         \u001b[38;5;28;01mreturn\u001b[39;00m generation_types\u001b[38;5;241m.\u001b[39mGenerateContentResponse\u001b[38;5;241m.\u001b[39mfrom_iterator(iterator)\n\u001b[1;32m    330\u001b[0m     \u001b[38;5;28;01melse\u001b[39;00m:\n\u001b[0;32m--> 331\u001b[0m         response \u001b[38;5;241m=\u001b[39m \u001b[38;5;28;43mself\u001b[39;49m\u001b[38;5;241;43m.\u001b[39;49m\u001b[43m_client\u001b[49m\u001b[38;5;241;43m.\u001b[39;49m\u001b[43mgenerate_content\u001b[49m\u001b[43m(\u001b[49m\n\u001b[1;32m    332\u001b[0m \u001b[43m            \u001b[49m\u001b[43mrequest\u001b[49m\u001b[43m,\u001b[49m\n\u001b[1;32m    333\u001b[0m \u001b[43m            \u001b[49m\u001b[38;5;241;43m*\u001b[39;49m\u001b[38;5;241;43m*\u001b[39;49m\u001b[43mrequest_options\u001b[49m\u001b[43m,\u001b[49m\n\u001b[1;32m    334\u001b[0m \u001b[43m        \u001b[49m\u001b[43m)\u001b[49m\n\u001b[1;32m    335\u001b[0m         \u001b[38;5;28;01mreturn\u001b[39;00m generation_types\u001b[38;5;241m.\u001b[39mGenerateContentResponse\u001b[38;5;241m.\u001b[39mfrom_response(response)\n\u001b[1;32m    336\u001b[0m \u001b[38;5;28;01mexcept\u001b[39;00m google\u001b[38;5;241m.\u001b[39mapi_core\u001b[38;5;241m.\u001b[39mexceptions\u001b[38;5;241m.\u001b[39mInvalidArgument \u001b[38;5;28;01mas\u001b[39;00m e:\n",
      "File \u001b[0;32m~/anaconda3/envs/anomllm/lib/python3.10/site-packages/google/ai/generativelanguage_v1beta/services/generative_service/client.py:827\u001b[0m, in \u001b[0;36mGenerativeServiceClient.generate_content\u001b[0;34m(self, request, model, contents, retry, timeout, metadata)\u001b[0m\n\u001b[1;32m    824\u001b[0m \u001b[38;5;28mself\u001b[39m\u001b[38;5;241m.\u001b[39m_validate_universe_domain()\n\u001b[1;32m    826\u001b[0m \u001b[38;5;66;03m# Send the request.\u001b[39;00m\n\u001b[0;32m--> 827\u001b[0m response \u001b[38;5;241m=\u001b[39m \u001b[43mrpc\u001b[49m\u001b[43m(\u001b[49m\n\u001b[1;32m    828\u001b[0m \u001b[43m    \u001b[49m\u001b[43mrequest\u001b[49m\u001b[43m,\u001b[49m\n\u001b[1;32m    829\u001b[0m \u001b[43m    \u001b[49m\u001b[43mretry\u001b[49m\u001b[38;5;241;43m=\u001b[39;49m\u001b[43mretry\u001b[49m\u001b[43m,\u001b[49m\n\u001b[1;32m    830\u001b[0m \u001b[43m    \u001b[49m\u001b[43mtimeout\u001b[49m\u001b[38;5;241;43m=\u001b[39;49m\u001b[43mtimeout\u001b[49m\u001b[43m,\u001b[49m\n\u001b[1;32m    831\u001b[0m \u001b[43m    \u001b[49m\u001b[43mmetadata\u001b[49m\u001b[38;5;241;43m=\u001b[39;49m\u001b[43mmetadata\u001b[49m\u001b[43m,\u001b[49m\n\u001b[1;32m    832\u001b[0m \u001b[43m\u001b[49m\u001b[43m)\u001b[49m\n\u001b[1;32m    834\u001b[0m \u001b[38;5;66;03m# Done; return the response.\u001b[39;00m\n\u001b[1;32m    835\u001b[0m \u001b[38;5;28;01mreturn\u001b[39;00m response\n",
      "File \u001b[0;32m~/anaconda3/envs/anomllm/lib/python3.10/site-packages/google/api_core/gapic_v1/method.py:131\u001b[0m, in \u001b[0;36m_GapicCallable.__call__\u001b[0;34m(self, timeout, retry, compression, *args, **kwargs)\u001b[0m\n\u001b[1;32m    128\u001b[0m \u001b[38;5;28;01mif\u001b[39;00m \u001b[38;5;28mself\u001b[39m\u001b[38;5;241m.\u001b[39m_compression \u001b[38;5;129;01mis\u001b[39;00m \u001b[38;5;129;01mnot\u001b[39;00m \u001b[38;5;28;01mNone\u001b[39;00m:\n\u001b[1;32m    129\u001b[0m     kwargs[\u001b[38;5;124m\"\u001b[39m\u001b[38;5;124mcompression\u001b[39m\u001b[38;5;124m\"\u001b[39m] \u001b[38;5;241m=\u001b[39m compression\n\u001b[0;32m--> 131\u001b[0m \u001b[38;5;28;01mreturn\u001b[39;00m \u001b[43mwrapped_func\u001b[49m\u001b[43m(\u001b[49m\u001b[38;5;241;43m*\u001b[39;49m\u001b[43margs\u001b[49m\u001b[43m,\u001b[49m\u001b[43m \u001b[49m\u001b[38;5;241;43m*\u001b[39;49m\u001b[38;5;241;43m*\u001b[39;49m\u001b[43mkwargs\u001b[49m\u001b[43m)\u001b[49m\n",
      "File \u001b[0;32m~/anaconda3/envs/anomllm/lib/python3.10/site-packages/google/api_core/retry/retry_unary.py:293\u001b[0m, in \u001b[0;36mRetry.__call__.<locals>.retry_wrapped_func\u001b[0;34m(*args, **kwargs)\u001b[0m\n\u001b[1;32m    289\u001b[0m target \u001b[38;5;241m=\u001b[39m functools\u001b[38;5;241m.\u001b[39mpartial(func, \u001b[38;5;241m*\u001b[39margs, \u001b[38;5;241m*\u001b[39m\u001b[38;5;241m*\u001b[39mkwargs)\n\u001b[1;32m    290\u001b[0m sleep_generator \u001b[38;5;241m=\u001b[39m exponential_sleep_generator(\n\u001b[1;32m    291\u001b[0m     \u001b[38;5;28mself\u001b[39m\u001b[38;5;241m.\u001b[39m_initial, \u001b[38;5;28mself\u001b[39m\u001b[38;5;241m.\u001b[39m_maximum, multiplier\u001b[38;5;241m=\u001b[39m\u001b[38;5;28mself\u001b[39m\u001b[38;5;241m.\u001b[39m_multiplier\n\u001b[1;32m    292\u001b[0m )\n\u001b[0;32m--> 293\u001b[0m \u001b[38;5;28;01mreturn\u001b[39;00m \u001b[43mretry_target\u001b[49m\u001b[43m(\u001b[49m\n\u001b[1;32m    294\u001b[0m \u001b[43m    \u001b[49m\u001b[43mtarget\u001b[49m\u001b[43m,\u001b[49m\n\u001b[1;32m    295\u001b[0m \u001b[43m    \u001b[49m\u001b[38;5;28;43mself\u001b[39;49m\u001b[38;5;241;43m.\u001b[39;49m\u001b[43m_predicate\u001b[49m\u001b[43m,\u001b[49m\n\u001b[1;32m    296\u001b[0m \u001b[43m    \u001b[49m\u001b[43msleep_generator\u001b[49m\u001b[43m,\u001b[49m\n\u001b[1;32m    297\u001b[0m \u001b[43m    \u001b[49m\u001b[43mtimeout\u001b[49m\u001b[38;5;241;43m=\u001b[39;49m\u001b[38;5;28;43mself\u001b[39;49m\u001b[38;5;241;43m.\u001b[39;49m\u001b[43m_timeout\u001b[49m\u001b[43m,\u001b[49m\n\u001b[1;32m    298\u001b[0m \u001b[43m    \u001b[49m\u001b[43mon_error\u001b[49m\u001b[38;5;241;43m=\u001b[39;49m\u001b[43mon_error\u001b[49m\u001b[43m,\u001b[49m\n\u001b[1;32m    299\u001b[0m \u001b[43m\u001b[49m\u001b[43m)\u001b[49m\n",
      "File \u001b[0;32m~/anaconda3/envs/anomllm/lib/python3.10/site-packages/google/api_core/retry/retry_unary.py:144\u001b[0m, in \u001b[0;36mretry_target\u001b[0;34m(target, predicate, sleep_generator, timeout, on_error, exception_factory, **kwargs)\u001b[0m\n\u001b[1;32m    142\u001b[0m \u001b[38;5;28;01mfor\u001b[39;00m sleep \u001b[38;5;129;01min\u001b[39;00m sleep_generator:\n\u001b[1;32m    143\u001b[0m     \u001b[38;5;28;01mtry\u001b[39;00m:\n\u001b[0;32m--> 144\u001b[0m         result \u001b[38;5;241m=\u001b[39m \u001b[43mtarget\u001b[49m\u001b[43m(\u001b[49m\u001b[43m)\u001b[49m\n\u001b[1;32m    145\u001b[0m         \u001b[38;5;28;01mif\u001b[39;00m inspect\u001b[38;5;241m.\u001b[39misawaitable(result):\n\u001b[1;32m    146\u001b[0m             warnings\u001b[38;5;241m.\u001b[39mwarn(_ASYNC_RETRY_WARNING)\n",
      "File \u001b[0;32m~/anaconda3/envs/anomllm/lib/python3.10/site-packages/google/api_core/timeout.py:120\u001b[0m, in \u001b[0;36mTimeToDeadlineTimeout.__call__.<locals>.func_with_timeout\u001b[0;34m(*args, **kwargs)\u001b[0m\n\u001b[1;32m    117\u001b[0m     \u001b[38;5;66;03m# Avoid setting negative timeout\u001b[39;00m\n\u001b[1;32m    118\u001b[0m     kwargs[\u001b[38;5;124m\"\u001b[39m\u001b[38;5;124mtimeout\u001b[39m\u001b[38;5;124m\"\u001b[39m] \u001b[38;5;241m=\u001b[39m \u001b[38;5;28mmax\u001b[39m(\u001b[38;5;241m0\u001b[39m, \u001b[38;5;28mself\u001b[39m\u001b[38;5;241m.\u001b[39m_timeout \u001b[38;5;241m-\u001b[39m time_since_first_attempt)\n\u001b[0;32m--> 120\u001b[0m \u001b[38;5;28;01mreturn\u001b[39;00m \u001b[43mfunc\u001b[49m\u001b[43m(\u001b[49m\u001b[38;5;241;43m*\u001b[39;49m\u001b[43margs\u001b[49m\u001b[43m,\u001b[49m\u001b[43m \u001b[49m\u001b[38;5;241;43m*\u001b[39;49m\u001b[38;5;241;43m*\u001b[39;49m\u001b[43mkwargs\u001b[49m\u001b[43m)\u001b[49m\n",
      "File \u001b[0;32m~/anaconda3/envs/anomllm/lib/python3.10/site-packages/google/api_core/grpc_helpers.py:76\u001b[0m, in \u001b[0;36m_wrap_unary_errors.<locals>.error_remapped_callable\u001b[0;34m(*args, **kwargs)\u001b[0m\n\u001b[1;32m     73\u001b[0m \u001b[38;5;129m@functools\u001b[39m\u001b[38;5;241m.\u001b[39mwraps(callable_)\n\u001b[1;32m     74\u001b[0m \u001b[38;5;28;01mdef\u001b[39;00m \u001b[38;5;21merror_remapped_callable\u001b[39m(\u001b[38;5;241m*\u001b[39margs, \u001b[38;5;241m*\u001b[39m\u001b[38;5;241m*\u001b[39mkwargs):\n\u001b[1;32m     75\u001b[0m     \u001b[38;5;28;01mtry\u001b[39;00m:\n\u001b[0;32m---> 76\u001b[0m         \u001b[38;5;28;01mreturn\u001b[39;00m \u001b[43mcallable_\u001b[49m\u001b[43m(\u001b[49m\u001b[38;5;241;43m*\u001b[39;49m\u001b[43margs\u001b[49m\u001b[43m,\u001b[49m\u001b[43m \u001b[49m\u001b[38;5;241;43m*\u001b[39;49m\u001b[38;5;241;43m*\u001b[39;49m\u001b[43mkwargs\u001b[49m\u001b[43m)\u001b[49m\n\u001b[1;32m     77\u001b[0m     \u001b[38;5;28;01mexcept\u001b[39;00m grpc\u001b[38;5;241m.\u001b[39mRpcError \u001b[38;5;28;01mas\u001b[39;00m exc:\n\u001b[1;32m     78\u001b[0m         \u001b[38;5;28;01mraise\u001b[39;00m exceptions\u001b[38;5;241m.\u001b[39mfrom_grpc_error(exc) \u001b[38;5;28;01mfrom\u001b[39;00m \u001b[38;5;21;01mexc\u001b[39;00m\n",
      "File \u001b[0;32m~/.local/lib/python3.10/site-packages/grpc/_channel.py:1178\u001b[0m, in \u001b[0;36m_UnaryUnaryMultiCallable.__call__\u001b[0;34m(self, request, timeout, metadata, credentials, wait_for_ready, compression)\u001b[0m\n\u001b[1;32m   1166\u001b[0m \u001b[38;5;28;01mdef\u001b[39;00m \u001b[38;5;21m__call__\u001b[39m(\n\u001b[1;32m   1167\u001b[0m     \u001b[38;5;28mself\u001b[39m,\n\u001b[1;32m   1168\u001b[0m     request: Any,\n\u001b[0;32m   (...)\u001b[0m\n\u001b[1;32m   1173\u001b[0m     compression: Optional[grpc\u001b[38;5;241m.\u001b[39mCompression] \u001b[38;5;241m=\u001b[39m \u001b[38;5;28;01mNone\u001b[39;00m,\n\u001b[1;32m   1174\u001b[0m ) \u001b[38;5;241m-\u001b[39m\u001b[38;5;241m>\u001b[39m Any:\n\u001b[1;32m   1175\u001b[0m     (\n\u001b[1;32m   1176\u001b[0m         state,\n\u001b[1;32m   1177\u001b[0m         call,\n\u001b[0;32m-> 1178\u001b[0m     ) \u001b[38;5;241m=\u001b[39m \u001b[38;5;28;43mself\u001b[39;49m\u001b[38;5;241;43m.\u001b[39;49m\u001b[43m_blocking\u001b[49m\u001b[43m(\u001b[49m\n\u001b[1;32m   1179\u001b[0m \u001b[43m        \u001b[49m\u001b[43mrequest\u001b[49m\u001b[43m,\u001b[49m\u001b[43m \u001b[49m\u001b[43mtimeout\u001b[49m\u001b[43m,\u001b[49m\u001b[43m \u001b[49m\u001b[43mmetadata\u001b[49m\u001b[43m,\u001b[49m\u001b[43m \u001b[49m\u001b[43mcredentials\u001b[49m\u001b[43m,\u001b[49m\u001b[43m \u001b[49m\u001b[43mwait_for_ready\u001b[49m\u001b[43m,\u001b[49m\u001b[43m \u001b[49m\u001b[43mcompression\u001b[49m\n\u001b[1;32m   1180\u001b[0m \u001b[43m    \u001b[49m\u001b[43m)\u001b[49m\n\u001b[1;32m   1181\u001b[0m     \u001b[38;5;28;01mreturn\u001b[39;00m _end_unary_response_blocking(state, call, \u001b[38;5;28;01mFalse\u001b[39;00m, \u001b[38;5;28;01mNone\u001b[39;00m)\n",
      "File \u001b[0;32m~/.local/lib/python3.10/site-packages/grpc/_channel.py:1162\u001b[0m, in \u001b[0;36m_UnaryUnaryMultiCallable._blocking\u001b[0;34m(self, request, timeout, metadata, credentials, wait_for_ready, compression)\u001b[0m\n\u001b[1;32m   1145\u001b[0m state\u001b[38;5;241m.\u001b[39mtarget \u001b[38;5;241m=\u001b[39m _common\u001b[38;5;241m.\u001b[39mdecode(\u001b[38;5;28mself\u001b[39m\u001b[38;5;241m.\u001b[39m_target)\n\u001b[1;32m   1146\u001b[0m call \u001b[38;5;241m=\u001b[39m \u001b[38;5;28mself\u001b[39m\u001b[38;5;241m.\u001b[39m_channel\u001b[38;5;241m.\u001b[39msegregated_call(\n\u001b[1;32m   1147\u001b[0m     cygrpc\u001b[38;5;241m.\u001b[39mPropagationConstants\u001b[38;5;241m.\u001b[39mGRPC_PROPAGATE_DEFAULTS,\n\u001b[1;32m   1148\u001b[0m     \u001b[38;5;28mself\u001b[39m\u001b[38;5;241m.\u001b[39m_method,\n\u001b[0;32m   (...)\u001b[0m\n\u001b[1;32m   1160\u001b[0m     \u001b[38;5;28mself\u001b[39m\u001b[38;5;241m.\u001b[39m_registered_call_handle,\n\u001b[1;32m   1161\u001b[0m )\n\u001b[0;32m-> 1162\u001b[0m event \u001b[38;5;241m=\u001b[39m \u001b[43mcall\u001b[49m\u001b[38;5;241;43m.\u001b[39;49m\u001b[43mnext_event\u001b[49m\u001b[43m(\u001b[49m\u001b[43m)\u001b[49m\n\u001b[1;32m   1163\u001b[0m _handle_event(event, state, \u001b[38;5;28mself\u001b[39m\u001b[38;5;241m.\u001b[39m_response_deserializer)\n\u001b[1;32m   1164\u001b[0m \u001b[38;5;28;01mreturn\u001b[39;00m state, call\n",
      "File \u001b[0;32msrc/python/grpcio/grpc/_cython/_cygrpc/channel.pyx.pxi:388\u001b[0m, in \u001b[0;36mgrpc._cython.cygrpc.SegregatedCall.next_event\u001b[0;34m()\u001b[0m\n",
      "File \u001b[0;32msrc/python/grpcio/grpc/_cython/_cygrpc/channel.pyx.pxi:211\u001b[0m, in \u001b[0;36mgrpc._cython.cygrpc._next_call_event\u001b[0;34m()\u001b[0m\n",
      "File \u001b[0;32msrc/python/grpcio/grpc/_cython/_cygrpc/channel.pyx.pxi:205\u001b[0m, in \u001b[0;36mgrpc._cython.cygrpc._next_call_event\u001b[0;34m()\u001b[0m\n",
      "File \u001b[0;32msrc/python/grpcio/grpc/_cython/_cygrpc/completion_queue.pyx.pxi:78\u001b[0m, in \u001b[0;36mgrpc._cython.cygrpc._latent_event\u001b[0;34m()\u001b[0m\n",
      "File \u001b[0;32msrc/python/grpcio/grpc/_cython/_cygrpc/completion_queue.pyx.pxi:61\u001b[0m, in \u001b[0;36mgrpc._cython.cygrpc._internal_latent_event\u001b[0;34m()\u001b[0m\n",
      "File \u001b[0;32msrc/python/grpcio/grpc/_cython/_cygrpc/completion_queue.pyx.pxi:42\u001b[0m, in \u001b[0;36mgrpc._cython.cygrpc._next\u001b[0;34m()\u001b[0m\n",
      "\u001b[0;31mKeyboardInterrupt\u001b[0m: "
     ]
    }
   ],
   "source": [
    "pcl_name = \"../data/synthetic/component_series_400.pkl\"\n",
    "online_AD_with_retries_component('gemini-1.5-flash', pcl_name)\n"
   ]
  },
  {
   "cell_type": "code",
   "execution_count": null,
   "id": "429a711b",
   "metadata": {},
   "outputs": [],
   "source": []
  }
 ],
 "metadata": {
  "kernelspec": {
   "display_name": "anomllm",
   "language": "python",
   "name": "python3"
  },
  "language_info": {
   "codemirror_mode": {
    "name": "ipython",
    "version": 3
   },
   "file_extension": ".py",
   "mimetype": "text/x-python",
   "name": "python",
   "nbconvert_exporter": "python",
   "pygments_lexer": "ipython3",
   "version": "3.10.16"
  }
 },
 "nbformat": 4,
 "nbformat_minor": 5
}
