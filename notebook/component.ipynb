{
 "cells": [
  {
   "cell_type": "code",
   "execution_count": 1,
   "id": "aa08a8a3",
   "metadata": {},
   "outputs": [],
   "source": [
    "%load_ext autoreload\n",
    "%autoreload 2\n",
    "%config InlineBackend.figure_format = 'retina'\n"
   ]
  },
  {
   "cell_type": "code",
   "execution_count": 2,
   "id": "f863e9ae",
   "metadata": {},
   "outputs": [
    {
     "name": "stdout",
     "output_type": "stream",
     "text": [
      "/home/kyudan/AnomLLM\n",
      "/home/kyudan/AnomLLM/src\n"
     ]
    },
    {
     "data": {
      "text/plain": [
       "'/home/kyudan/AnomLLM/src'"
      ]
     },
     "execution_count": 2,
     "metadata": {},
     "output_type": "execute_result"
    }
   ],
   "source": [
    "%pwd\n",
    "%cd ..\n",
    "%cd src\n",
    "%pwd"
   ]
  },
  {
   "cell_type": "code",
   "execution_count": null,
   "id": "7d228f15",
   "metadata": {},
   "outputs": [],
   "source": [
    "#Please edit the BASE_DIR on your situation.\n",
    "\n",
    "BASE_DIR = \"/home/kyudan/AnomLLM\""
   ]
  },
  {
   "cell_type": "code",
   "execution_count": 4,
   "id": "edd1bb1a",
   "metadata": {},
   "outputs": [],
   "source": [
    "def make_component_prompt(time_series):\n",
    "        \n",
    "    COMPONENT_PROMPT = f\"\"\"Time series data can typically be decomposed into three main components such as Trend, Seasonality, and Residuals.\n",
    "In this analysis, Residuals are further divided into Noise and Anomalies.\n",
    "\n",
    "The four components exhibit the following characteristics:\n",
    "* Trend: A long-term directional pattern or consistent upward/downward movement.\n",
    "* Seasonality: Regular and predictable cycles repeating at consistent intervals.\n",
    "* Noise: Random, irregular fluctuations without a meaningful pattern.\n",
    "* Anomalies: Observations significantly deviating from typical or expected patterns.\n",
    "\n",
    "Below is the given time series data:\n",
    "{time_series}\n",
    "\n",
    "Analyze the provided time series carefully. \n",
    "Determine if each of these components (Trend, Seasonality, Noise, Anomalies) is present (1) or absent (0).\n",
    "\n",
    "Provide your answer strictly in the following JSON format:\n",
    "{{\"Trend\": 0 or 1, \"Seasonality\": 0 or 1, \"Noise\": 0 or 1, \"Anomalies\": 0 or 1}}\n",
    "    \"\"\"\n",
    "    return COMPONENT_PROMPT"
   ]
  },
  {
   "cell_type": "code",
   "execution_count": 5,
   "id": "1e055aa4",
   "metadata": {},
   "outputs": [],
   "source": [
    "from prompt import LIMIT_PROMPT,PROMPT, time_series_to_str\n",
    "\n",
    "\n",
    "def create_component_prompt(\n",
    "        idx,\n",
    "        series,\n",
    "):\n",
    "\n",
    "    messages = [\n",
    "        {\n",
    "            \"role\": \"user\",\n",
    "            \"content\": make_component_prompt(time_series_to_str(series[idx]))\n",
    "        }\n",
    "    ]\n",
    "    if idx == 0:\n",
    "        print(messages[0][\"content\"])\n",
    "    return {\n",
    "        \"messages\": messages,\n",
    "        \"temperature\": 0.4,\n",
    "        \"stop\": [\"''''\", \" – –\", \"<|endoftext|>\", \"<|eot_id|>\"]\n",
    "    }\n"
   ]
  },
  {
   "cell_type": "code",
   "execution_count": null,
   "id": "bca43f4b",
   "metadata": {},
   "outputs": [],
   "source": [
    "from openai_api import send_openai_request\n",
    "import json\n",
    "import time\n",
    "import os\n",
    "from loguru import logger\n",
    "from data.synthetic import SyntheticDataset\n",
    "import pandas as pd\n",
    "\n",
    "\n",
    "\n",
    "def online_AD_with_retries_component(\n",
    "    model_name: str,\n",
    "    pcl_name: str,\n",
    "    #data_name: str,\n",
    "    #request_func: callable,\n",
    "    #variant: str = \"standard\",\n",
    "    num_retries: int = 4,\n",
    "\n",
    "):\n",
    "    df = pd.read_pickle(pcl_name)\n",
    "\n",
    "    # Initialize dictionary to store results\n",
    "    results = {}\n",
    "\n",
    "    # Configure logger\n",
    "    log_fn = f\"logs/synthetic/{pcl_name}/{model_name}/\" + \".log\"\n",
    "    logger.add(log_fn, format=\"{time} {level} {message}\", level=\"INFO\")\n",
    "    results_dir = f'{BASE_DIR}/results/synthetic/{pcl_name}/{model_name}/'\n",
    "    jsonl_fn = os.path.join(results_dir + 'component.jsonl')\n",
    "    os.makedirs(results_dir, exist_ok=True)\n",
    "\n",
    "    if os.path.exists(jsonl_fn):\n",
    "        logger.error(f\"Results file '{jsonl_fn}' already exists. Please delete it first to avoid duplicate entries.\")\n",
    "        print(f\"Results file '{jsonl_fn}' already exists. Please delete it and run again.\")\n",
    "        return None\n",
    "\n",
    "    for i in range(1, len(df)+1):\n",
    "        custom_id = f\"{pcl_name}_{model_name}_{str(i).zfill(5)}\"\n",
    "        series = df['series_values']\n",
    "\n",
    "        # Perform anomaly detection with exponential backoff\n",
    "        for attempt in range(num_retries):\n",
    "            try:\n",
    "                request = create_component_prompt(i-1, series)\n",
    "                response = send_openai_request(request, model_name)\n",
    "                \n",
    "                # Write the result to jsonl\n",
    "                with open(jsonl_fn, 'a') as f:\n",
    "                    json.dump({'custom_id': custom_id, 'request': request, 'response': response}, f)\n",
    "                    f.write('\\n')\n",
    "                # If successful, break the retry loop\n",
    "                break\n",
    "            except Exception as e:\n",
    "                if \"503\" in str(e):  # Server not up yet, sleep until the server is up again\n",
    "                    while True:\n",
    "                        logger.debug(\"503 error, sleep 30 seconds\")\n",
    "                        time.sleep(30)\n",
    "                        try:\n",
    "                            response = send_openai_request(request, model_name)\n",
    "                            break\n",
    "                        except Exception as e:\n",
    "                            if \"503\" not in str(e):\n",
    "                                break\n",
    "                else:\n",
    "                    logger.error(e)\n",
    "                    # If an exception occurs, wait and then retry\n",
    "                    wait_time = 2 ** (attempt + 3)\n",
    "                    logger.debug(f\"Attempt {attempt + 1} failed. Waiting for {wait_time} seconds before retrying...\")\n",
    "                    time.sleep(wait_time)\n",
    "                    continue\n",
    "        else:\n",
    "            logger.error(f\"Failed to process {custom_id} after {num_retries} attempts\")"
   ]
  },
  {
   "cell_type": "code",
   "execution_count": null,
   "id": "d9bb25aa",
   "metadata": {},
   "outputs": [],
   "source": [
    "pcl_name = \"../data/synthetic/component_series_400.pkl\"\n",
    "online_AD_with_retries_component('gemini-1.5-flash', pcl_name)\n"
   ]
  }
 ],
 "metadata": {
  "kernelspec": {
   "display_name": "anomllm",
   "language": "python",
   "name": "python3"
  },
  "language_info": {
   "codemirror_mode": {
    "name": "ipython",
    "version": 3
   },
   "file_extension": ".py",
   "mimetype": "text/x-python",
   "name": "python",
   "nbconvert_exporter": "python",
   "pygments_lexer": "ipython3",
   "version": "3.10.16"
  }
 },
 "nbformat": 4,
 "nbformat_minor": 5
}
