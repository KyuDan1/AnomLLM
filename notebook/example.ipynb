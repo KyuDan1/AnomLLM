{
 "cells": [
  {
   "cell_type": "code",
   "execution_count": null,
   "metadata": {},
   "outputs": [],
   "source": [
    "%load_ext autoreload\n",
    "%autoreload 2\n",
    "%config InlineBackend.figure_format = 'retina'"
   ]
  },
  {
   "cell_type": "markdown",
   "metadata": {},
   "source": [
    "### Validate Endpoint"
   ]
  },
  {
   "cell_type": "code",
   "execution_count": null,
   "metadata": {},
   "outputs": [],
   "source": [
    "new_request = {}\n",
    "new_request[\"messages\"] = [\n",
    "    {\n",
    "        \"role\": \"user\",\n",
    "        \"content\": [\n",
    "            {\"type\": \"text\", \"text\": \"What’s in this image?\"},\n",
    "            {\n",
    "                \"type\": \"image_url\",\n",
    "                \"image_url\": {\n",
    "                    \"url\": \"https://upload.wikimedia.org/wikipedia/commons/thumb/d/dd/Gfp-wisconsin-madison-the-nature-boardwalk.jpg/2560px-Gfp-wisconsin-madison-the-nature-boardwalk.jpg\"\n",
    "                },\n",
    "            },\n",
    "        ],\n",
    "    }\n",
    "]\n",
    "new_request[\"temperature\"] = 0.5"
   ]
  },
  {
   "cell_type": "code",
   "execution_count": null,
   "metadata": {},
   "outputs": [],
   "source": [
    "from utils import display_messages\n",
    "display_messages(new_request[\"messages\"])"
   ]
  },
  {
   "cell_type": "code",
   "execution_count": null,
   "metadata": {},
   "outputs": [],
   "source": [
    "from openai_api import send_openai_request\n",
    "response = send_openai_request(new_request, model=\"internvlm-76b\")\n",
    "print(response)"
   ]
  },
  {
   "cell_type": "code",
   "execution_count": null,
   "metadata": {},
   "outputs": [],
   "source": [
    "from gemini_api import convert_openai_to_gemini, send_gemini_request\n",
    "gemini_request = convert_openai_to_gemini(new_request)\n",
    "send_gemini_request(gemini_request, model=\"gemini-1.5-flash-latest\")\n",
    "print(response)"
   ]
  },
  {
   "cell_type": "markdown",
   "metadata": {},
   "source": [
    "### Vision Anomaly Detection\n",
    "\n",
    "#### View Time Series Data"
   ]
  },
  {
   "cell_type": "code",
   "execution_count": null,
   "metadata": {},
   "outputs": [],
   "source": [
    "from prompt import time_series_to_image\n",
    "from utils import view_base64_image, display_messages\n",
    "from data.synthetic import SyntheticDataset\n",
    "\n",
    "data_name = 'trend'\n",
    "data_dir = f'data/synthetic/{data_name}/eval/'\n",
    "train_dir = f'data/synthetic/{data_name}/train/'\n",
    "eval_dataset = SyntheticDataset(data_dir)\n",
    "eval_dataset.load()\n",
    "train_dataset = SyntheticDataset(train_dir)\n",
    "train_dataset.load()"
   ]
  },
  {
   "cell_type": "code",
   "execution_count": null,
   "metadata": {},
   "outputs": [],
   "source": [
    "from prompt import create_openai_request\n",
    "from openai_api import send_openai_request\n",
    "import matplotlib.pyplot as plt\n",
    "\n",
    "# Set default DPI\n",
    "plt.rcParams['figure.dpi'] = 240"
   ]
  },
  {
   "cell_type": "code",
   "execution_count": null,
   "metadata": {},
   "outputs": [],
   "source": [
    "for i in range(5):\n",
    "    data = eval_dataset[i]\n",
    "    view_base64_image(\n",
    "        time_series_to_image(\n",
    "            data[1], \n",
    "            gt_anomaly_intervals=data[0],\n",
    "            fig_size=(20, 3)\n",
    "        )\n",
    "    )"
   ]
  },
  {
   "cell_type": "code",
   "execution_count": null,
   "metadata": {},
   "outputs": [],
   "source": [
    "request = create_openai_request(\n",
    "    eval_dataset[0][1],\n",
    "    vision=True,\n",
    "    few_shots=train_dataset.few_shots(num_shots=1)\n",
    ")\n",
    "display_messages(request[\"messages\"])"
   ]
  },
  {
   "cell_type": "code",
   "execution_count": null,
   "metadata": {},
   "outputs": [],
   "source": [
    "response = send_openai_request(request, model='gpt-4o')\n",
    "response"
   ]
  },
  {
   "cell_type": "code",
   "execution_count": null,
   "metadata": {},
   "outputs": [],
   "source": [
    "view_base64_image(\n",
    "    time_series_to_image(\n",
    "        eval_dataset[0][1], \n",
    "        gt_anomaly_intervals=eval_dataset[0][0], \n",
    "        anomalies={'internvlm-76b': response},\n",
    "        fig_size=(20, 3)\n",
    "    )\n",
    ")"
   ]
  },
  {
   "cell_type": "code",
   "execution_count": null,
   "metadata": {},
   "outputs": [],
   "source": [
    "from gemini_api import convert_openai_to_gemini, send_gemini_request\n",
    "request = create_openai_request(\n",
    "    eval_dataset[0][1],\n",
    "    vision=True,\n",
    "    few_shots=train_dataset.few_shots(num_shots=1)\n",
    ")\n",
    "response = send_openai_request(request, model='gemini-1.5-pro-latest')\n",
    "response"
   ]
  },
  {
   "cell_type": "code",
   "execution_count": null,
   "metadata": {},
   "outputs": [],
   "source": [
    "view_base64_image(\n",
    "    time_series_to_image(\n",
    "        eval_dataset[0][1], \n",
    "        gt_anomaly_intervals=eval_dataset[0][0], \n",
    "        anomalies={'gemini': response},\n",
    "        fig_size=(20, 3)\n",
    "    )\n",
    ")"
   ]
  },
  {
   "cell_type": "markdown",
   "metadata": {},
   "source": [
    "### Going through a dataset"
   ]
  },
  {
   "cell_type": "code",
   "execution_count": null,
   "metadata": {},
   "outputs": [],
   "source": [
    "from utils import online_AD_with_retries\n",
    "from prompt import create_openai_request\n",
    "from openai_api import send_openai_request"
   ]
  },
  {
   "cell_type": "code",
   "execution_count": null,
   "metadata": {},
   "outputs": [],
   "source": [
    "# online_AD_with_retries(\n",
    "#     model_name='internvlm',\n",
    "#     data_name='point',\n",
    "#     ad_func=intern_ad,\n",
    "#     variant=\"1shot_vision\"\n",
    "# )"
   ]
  },
  {
   "cell_type": "markdown",
   "metadata": {},
   "source": [
    "### Generate OpenAI Batch"
   ]
  },
  {
   "cell_type": "code",
   "execution_count": null,
   "metadata": {},
   "outputs": [],
   "source": [
    "from utils import generate_batch_AD_requests\n",
    "from prompt import create_openai_request\n",
    "\n",
    "def openai_request(series, train_dataset):\n",
    "    return create_openai_request(\n",
    "        series,\n",
    "        vision=True,\n",
    "        few_shots=train_dataset.few_shots(num_shots=1)\n",
    "    )"
   ]
  },
  {
   "cell_type": "code",
   "execution_count": null,
   "metadata": {},
   "outputs": [],
   "source": [
    "jsonl_fn = generate_batch_AD_requests(\n",
    "    model_name='gpt-4o-mini',\n",
    "    data_name='point',\n",
    "    request_func=openai_request,\n",
    "    variant=\"1shot_vision\"\n",
    ")"
   ]
  },
  {
   "cell_type": "code",
   "execution_count": null,
   "metadata": {},
   "outputs": [],
   "source": [
    "from openai_api import openai_client\n",
    "client = openai_client('gpt-4o-mini')"
   ]
  },
  {
   "cell_type": "code",
   "execution_count": null,
   "metadata": {},
   "outputs": [],
   "source": [
    "batch_input_file = client.files.create(\n",
    "    file=open(jsonl_fn, \"rb\"),\n",
    "    purpose=\"batch\"\n",
    ")"
   ]
  },
  {
   "cell_type": "code",
   "execution_count": null,
   "metadata": {},
   "outputs": [],
   "source": [
    "batch_input_file_id = batch_input_file.id\n",
    "client.batches.create(\n",
    "    input_file_id=batch_input_file_id,\n",
    "    endpoint=\"/v1/chat/completions\",\n",
    "    completion_window=\"24h\",\n",
    "    metadata={\n",
    "      \"description\": \"nightly eval job\"\n",
    "    }\n",
    ")"
   ]
  },
  {
   "cell_type": "code",
   "execution_count": null,
   "metadata": {},
   "outputs": [],
   "source": [
    "# client.batches.retrieve(\"batch_5OTeY7wGgmTGq1065wgoXsMT\")\n",
    "# client.batches.cancel(\"batch_L3JgGBmlv6yb5HRGH7GIs3mO\")"
   ]
  },
  {
   "cell_type": "code",
   "execution_count": null,
   "metadata": {},
   "outputs": [],
   "source": []
  }
 ],
 "metadata": {
  "kernelspec": {
   "display_name": "anomllm",
   "language": "python",
   "name": "python3"
  },
  "language_info": {
   "codemirror_mode": {
    "name": "ipython",
    "version": 3
   },
   "file_extension": ".py",
   "mimetype": "text/x-python",
   "name": "python",
   "nbconvert_exporter": "python",
   "pygments_lexer": "ipython3",
   "version": "3.10.14"
  }
 },
 "nbformat": 4,
 "nbformat_minor": 2
}
