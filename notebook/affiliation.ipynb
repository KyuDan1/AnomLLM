{
 "cells": [
  {
   "cell_type": "code",
   "execution_count": 1,
   "metadata": {},
   "outputs": [],
   "source": [
    "%load_ext autoreload\n",
    "%autoreload 2\n",
    "%config InlineBackend.figure_format = 'retina'"
   ]
  },
  {
   "cell_type": "code",
   "execution_count": 2,
   "metadata": {},
   "outputs": [
    {
     "data": {
      "text/plain": [
       "'/home/nas4_user/hojuncho/kyudan/AnomLLM/AnomLLM/notebook'"
      ]
     },
     "execution_count": 2,
     "metadata": {},
     "output_type": "execute_result"
    }
   ],
   "source": [
    "%pwd"
   ]
  },
  {
   "cell_type": "code",
   "execution_count": 3,
   "metadata": {},
   "outputs": [
    {
     "name": "stdout",
     "output_type": "stream",
     "text": [
      "/home/nas4_user/hojuncho/kyudan/AnomLLM/AnomLLM\n",
      "/home/nas4_user/hojuncho/kyudan/AnomLLM/AnomLLM/src\n"
     ]
    },
    {
     "name": "stderr",
     "output_type": "stream",
     "text": [
      "/home/nas4_user/hojuncho/.cache/pypoetry/virtualenvs/anomllm-yItPHLz9-py3.10/lib/python3.10/site-packages/IPython/core/magics/osm.py:417: UserWarning: This is now an optional IPython functionality, setting dhist requires you to install the `pickleshare` library.\n",
      "  self.shell.db['dhist'] = compress_dhist(dhist)[-100:]\n"
     ]
    }
   ],
   "source": [
    "%cd ..\n",
    "%cd src"
   ]
  },
  {
   "cell_type": "code",
   "execution_count": 4,
   "metadata": {},
   "outputs": [
    {
     "data": {
      "text/plain": [
       "'/home/nas4_user/hojuncho/kyudan/AnomLLM/AnomLLM/src'"
      ]
     },
     "execution_count": 4,
     "metadata": {},
     "output_type": "execute_result"
    }
   ],
   "source": [
    "%pwd"
   ]
  },
  {
   "cell_type": "code",
   "execution_count": 5,
   "metadata": {},
   "outputs": [],
   "source": [
    "#Please edit the BASE_DIR on your situation.\n",
    "\n",
    "BASE_DIR = \"/home/nas4_user/hojuncho/kyudan/AnomLLM/AnomLLM\""
   ]
  },
  {
   "cell_type": "code",
   "execution_count": 6,
   "metadata": {},
   "outputs": [
    {
     "name": "stdout",
     "output_type": "stream",
     "text": [
      "Loaded dataset point with 400 series.\n",
      "Loaded dataset point with 400 series.\n"
     ]
    }
   ],
   "source": [
    "from prompt import time_series_to_image\n",
    "from utils import view_base64_image, display_messages, collect_results\n",
    "from data.synthetic import SyntheticDataset\n",
    "\n",
    "data_name = 'point'\n",
    "data_dir = f'{BASE_DIR}/data/synthetic/{data_name}/eval/'\n",
    "train_dir = f'{BASE_DIR}/data/synthetic/{data_name}/train/'\n",
    "eval_dataset = SyntheticDataset(data_dir)\n",
    "eval_dataset.load()\n",
    "train_dataset = SyntheticDataset(train_dir)\n",
    "train_dataset.load()"
   ]
  },
  {
   "cell_type": "code",
   "execution_count": 7,
   "metadata": {},
   "outputs": [],
   "source": [
    "from utils import plot_series_and_predictions\n",
    "from utils import view_base64_image, display_messages, collect_results\n",
    "idx = 0\n",
    "directory = f'{BASE_DIR}/results/synthetic/{data_name}'\n",
    "series = eval_dataset[idx][1].numpy() # eval dataset의 문제 series.\n",
    "anomaly_locations = eval_dataset[idx][0].numpy() # eval dataset의 gt가 될 것.\n"
   ]
  },
  {
   "cell_type": "code",
   "execution_count": 8,
   "metadata": {},
   "outputs": [],
   "source": [
    "raw_results = collect_results(directory, raw=True)\n",
    "series = {k: v[idx] for k, v in raw_results.items()}\n"
   ]
  },
  {
   "cell_type": "code",
   "execution_count": 9,
   "metadata": {},
   "outputs": [],
   "source": [
    "results = collect_results(directory)\n",
    "results = {k: v[idx] for k, v in results.items()}"
   ]
  },
  {
   "cell_type": "code",
   "execution_count": 10,
   "metadata": {},
   "outputs": [],
   "source": [
    "from utils import interval_to_vector\n",
    "gt = interval_to_vector(anomaly_locations[0])\n",
    "# interval_to_vector 를 하면 gt의 구간에 대해서 1 로 바뀜.\n",
    "# 0 0 0 0 0 0 1 1 1 0 0 0 0 0 "
   ]
  },
  {
   "cell_type": "code",
   "execution_count": 11,
   "metadata": {},
   "outputs": [
    {
     "data": {
      "text/html": [
       "<div>\n",
       "<style scoped>\n",
       "    .dataframe tbody tr th:only-of-type {\n",
       "        vertical-align: middle;\n",
       "    }\n",
       "\n",
       "    .dataframe tbody tr th {\n",
       "        vertical-align: top;\n",
       "    }\n",
       "\n",
       "    .dataframe thead th {\n",
       "        text-align: right;\n",
       "    }\n",
       "</style>\n",
       "<table border=\"1\" class=\"dataframe\">\n",
       "  <thead>\n",
       "    <tr style=\"text-align: right;\">\n",
       "      <th></th>\n",
       "      <th>precision</th>\n",
       "      <th>recall</th>\n",
       "      <th>f1</th>\n",
       "      <th>affi precision</th>\n",
       "      <th>affi recall</th>\n",
       "      <th>affi f1</th>\n",
       "    </tr>\n",
       "  </thead>\n",
       "  <tbody>\n",
       "    <tr>\n",
       "      <th>gemini-1.5-flash (localization (rawData))</th>\n",
       "      <td>0.0</td>\n",
       "      <td>0.0</td>\n",
       "      <td>0.0</td>\n",
       "      <td>0.182</td>\n",
       "      <td>0.197</td>\n",
       "      <td>0.189</td>\n",
       "    </tr>\n",
       "    <tr>\n",
       "      <th>gemini-1.5-flash (0shot-text)</th>\n",
       "      <td>0.0</td>\n",
       "      <td>0.0</td>\n",
       "      <td>0.0</td>\n",
       "      <td>0.316</td>\n",
       "      <td>0.317</td>\n",
       "      <td>0.316</td>\n",
       "    </tr>\n",
       "  </tbody>\n",
       "</table>\n",
       "</div>"
      ],
      "text/plain": [
       "                                           precision  recall   f1  \\\n",
       "gemini-1.5-flash (localization (rawData))        0.0     0.0  0.0   \n",
       "gemini-1.5-flash (0shot-text)                    0.0     0.0  0.0   \n",
       "\n",
       "                                           affi precision  affi recall  \\\n",
       "gemini-1.5-flash (localization (rawData))           0.182        0.197   \n",
       "gemini-1.5-flash (0shot-text)                       0.316        0.317   \n",
       "\n",
       "                                           affi f1  \n",
       "gemini-1.5-flash (localization (rawData))    0.189  \n",
       "gemini-1.5-flash (0shot-text)                0.316  "
      ]
     },
     "execution_count": 11,
     "metadata": {},
     "output_type": "execute_result"
    }
   ],
   "source": [
    "import pandas as pd\n",
    "from sklearn.metrics import precision_score, recall_score\n",
    "from affiliation.generics import convert_vector_to_events\n",
    "from affiliation.metrics import pr_from_events\n",
    "from utils import compute_metrics\n",
    "\n",
    "data = {}\n",
    "\n",
    "for name, prediction in results.items():\n",
    "    metrics = compute_metrics(gt, prediction)\n",
    "    data[name] = metrics\n",
    "\n",
    "df = pd.DataFrame(data).T\n",
    "df\n"
   ]
  },
  {
   "cell_type": "code",
   "execution_count": 12,
   "metadata": {},
   "outputs": [],
   "source": [
    "# Keep only the first four columns\n",
    "df = df.iloc[:, :4].fillna(0)"
   ]
  },
  {
   "cell_type": "code",
   "execution_count": 13,
   "metadata": {},
   "outputs": [
    {
     "data": {
      "text/html": [
       "<table border=\"1\" class=\"dataframe\">\n",
       "  <thead>\n",
       "    <tr style=\"text-align: right;\">\n",
       "      <th></th>\n",
       "      <th>precision</th>\n",
       "      <th>recall</th>\n",
       "      <th>f1</th>\n",
       "      <th>affi precision</th>\n",
       "    </tr>\n",
       "  </thead>\n",
       "  <tbody>\n",
       "    <tr>\n",
       "      <th>gemini-1.5-flash (localization (rawData))</th>\n",
       "      <td><span style=\"color:rgb(255,0,0);\">0.00</span></td>\n",
       "      <td><span style=\"color:rgb(255,0,0);\">0.00</span></td>\n",
       "      <td><span style=\"color:rgb(255,0,0);\">0.00</span></td>\n",
       "      <td><span style=\"color:rgb(0,255,0);\">18.20</span></td>\n",
       "    </tr>\n",
       "    <tr>\n",
       "      <th>gemini-1.5-flash (0shot-text)</th>\n",
       "      <td><span style=\"color:rgb(255,0,0);\">0.00</span></td>\n",
       "      <td><span style=\"color:rgb(255,0,0);\">0.00</span></td>\n",
       "      <td><span style=\"color:rgb(255,0,0);\">0.00</span></td>\n",
       "      <td><span style=\"color:rgb(0,255,0);\">31.60</span></td>\n",
       "    </tr>\n",
       "  </tbody>\n",
       "</table>"
      ],
      "text/plain": [
       "<IPython.core.display.HTML object>"
      ]
     },
     "execution_count": 13,
     "metadata": {},
     "output_type": "execute_result"
    }
   ],
   "source": [
    "from utils import highlight_by_ranking\n",
    "from IPython.core.display import HTML\n",
    "styled_df = highlight_by_ranking(df.T).T\n",
    "HTML(styled_df.to_html(escape=False))\n"
   ]
  },
  {
   "cell_type": "code",
   "execution_count": 14,
   "metadata": {},
   "outputs": [],
   "source": [
    "results = collect_results(directory)"
   ]
  },
  {
   "cell_type": "code",
   "execution_count": null,
   "metadata": {},
   "outputs": [],
   "source": [
    "import numpy as np\n",
    "import pandas as pd\n",
    "from tqdm import trange\n",
    "from utils import compute_metrics, interval_to_vector\n",
    "\n",
    "# Initialize dictionary to store results\n",
    "metric_names = ['precision', 'recall', 'f1', 'affi precision', 'affi recall', 'affi f1']\n",
    "\n",
    "results_dict = {\n",
    "    key: [[] for _ in metric_names] for key in results.keys()\n",
    "}\n",
    "\n",
    "# Initialize DataFrame to store results\n",
    "df_list = []\n",
    "\n",
    "for i in trange(0, 400):\n",
    "    series = eval_dataset[idx][1].numpy()\n",
    "    anomaly_locations = eval_dataset[idx][0].numpy()\n",
    "    gt = interval_to_vector(anomaly_locations[0])\n",
    "\n",
    "    for name, prediction in results.items():\n",
    "        metrics = compute_metrics(gt, prediction[i])\n",
    "        for idx, metric_name in enumerate(metric_names):\n",
    "            results_dict[name][idx].append(metrics[metric_name])\n",
    "\n",
    "# Convert dictionary to DataFrame\n",
    "df = pd.DataFrame({k: np.mean(v, axis=1) for k, v in results_dict.items()}, \n",
    "                  index=['precision', 'recall', 'f1', 'affi precision', 'affi recall', 'affi f1'])\n",
    "\n",
    "df.T"
   ]
  },
  {
   "cell_type": "code",
   "execution_count": 15,
   "metadata": {},
   "outputs": [
    {
     "name": "stderr",
     "output_type": "stream",
     "text": [
      "/home/nas4_user/hojuncho/kyudan/AnomLLM/AnomLLM/src/utils.py:235: RuntimeWarning: invalid value encountered in double_scalars\n",
      "  ratio = (value - min_val) / (midpoint - min_val)\n"
     ]
    },
    {
     "data": {
      "text/html": [
       "<table border=\"1\" class=\"dataframe\">\n",
       "  <thead>\n",
       "    <tr style=\"text-align: right;\">\n",
       "      <th></th>\n",
       "      <th>gemini-1.5-flash (localization (rawData))</th>\n",
       "      <th>gemini-1.5-flash (0shot-text)</th>\n",
       "    </tr>\n",
       "  </thead>\n",
       "  <tbody>\n",
       "    <tr>\n",
       "      <th>PRE</th>\n",
       "      <td><span style=\"color:rgb(0,255,0);\">0.00</span></td>\n",
       "      <td><span style=\"color:rgb(0,255,0);\">0.00</span></td>\n",
       "    </tr>\n",
       "    <tr>\n",
       "      <th>REC</th>\n",
       "      <td><span style=\"color:rgb(0,255,0);\">0.00</span></td>\n",
       "      <td><span style=\"color:rgb(0,255,0);\">0.00</span></td>\n",
       "    </tr>\n",
       "    <tr>\n",
       "      <th>F1</th>\n",
       "      <td><span style=\"color:rgb(0,255,0);\">0.00</span></td>\n",
       "      <td><span style=\"color:rgb(0,255,0);\">0.00</span></td>\n",
       "    </tr>\n",
       "    <tr>\n",
       "      <th>affi PRE</th>\n",
       "      <td><span style=\"color:rgb(255,0,0);\">18.20</span></td>\n",
       "      <td><span style=\"color:rgb(0,255,0);\">31.60</span></td>\n",
       "    </tr>\n",
       "  </tbody>\n",
       "</table>"
      ],
      "text/plain": [
       "<IPython.core.display.HTML object>"
      ]
     },
     "execution_count": 15,
     "metadata": {},
     "output_type": "execute_result"
    }
   ],
   "source": [
    "styled_df = highlight_by_ranking(df).T\n",
    "# To visualize the output in Jupyter Notebook\n",
    "from IPython.core.display import HTML\n",
    "HTML(styled_df.to_html(escape=False))"
   ]
  },
  {
   "cell_type": "code",
   "execution_count": 16,
   "metadata": {},
   "outputs": [
    {
     "name": "stdout",
     "output_type": "stream",
     "text": [
      "\\begin{longtable}{lrr}\n",
      "\\caption{Point Anomalies in Sine Wave} \\label{tab:point_exp} \\\\\n",
      "\\toprule\n",
      "& \\small\\fontfamily{cmtt}\\selectfont{gemini-1.5-flash} & \\small\\fontfamily{cmtt}\\selectfont{gemini-1.5-flash} \\\\\n",
      "& \\small\\fontfamily{cmtt}\\selectfont{(localization (rawData))} & \\small\\fontfamily{cmtt}\\selectfont{(0shot-text)} \\\\ \\endfirsthead\n",
      "\\multicolumn{3}{c}{\\tablename\\ \\thetable\\ -- continued from previous page} \\\\\n",
      "\\toprule\n",
      "& \\small\\fontfamily{cmtt}\\selectfont{gemini-1.5-flash} & \\small\\fontfamily{cmtt}\\selectfont{gemini-1.5-flash} \\\\\n",
      "& \\small\\fontfamily{cmtt}\\selectfont{(localization (rawData))} & \\small\\fontfamily{cmtt}\\selectfont{(0shot-text)} \\\\ \\endhead\n",
      "\\midrule \\multicolumn{3}{r}{Continued on next page} \\\\ \\endfoot\n",
      "\\bottomrule \\endlastfoot\n",
      "\\midrule\n",
      "\\footnotesize\\fontfamily{cmtt}\\selectfont{PRE} & \\cellcolor{gray!15}\\cellcolor{gray!15}\\color[RGB]{0,255,0}\\small{0.00} & \\cellcolor{gray!15}\\color[RGB]{0,255,0}\\small{0.00} \\\\\n",
      "\\footnotesize\\fontfamily{cmtt}\\selectfont{REC} & \\color[RGB]{0,255,0}\\small{0.00} & \\color[RGB]{0,255,0}\\small{0.00} \\\\\n",
      "\\footnotesize\\fontfamily{cmtt}\\selectfont{F1} & \\cellcolor{gray!15}\\cellcolor{gray!15}\\color[RGB]{0,255,0}\\small{0.00} & \\cellcolor{gray!15}\\color[RGB]{0,255,0}\\small{0.00} \\\\\n",
      "\\footnotesize\\fontfamily{cmtt}\\selectfont{Affi pre} & \\color[RGB]{255,0,0}\\small{18.20} & \\color[RGB]{0,255,0}\\small{31.60} \\\\\n",
      "\\end{longtable}\n"
     ]
    }
   ],
   "source": [
    "from utils import styled_df_to_latex\n",
    "\n",
    "latex_table = styled_df_to_latex(styled_df, \"Point Anomalies in Sine Wave\", label=\"point_exp\")\n",
    "print(latex_table)"
   ]
  },
  {
   "cell_type": "code",
   "execution_count": null,
   "metadata": {},
   "outputs": [],
   "source": []
  }
 ],
 "metadata": {
  "kernelspec": {
   "display_name": "Python 3",
   "language": "python",
   "name": "python3"
  },
  "language_info": {
   "codemirror_mode": {
    "name": "ipython",
    "version": 3
   },
   "file_extension": ".py",
   "mimetype": "text/x-python",
   "name": "python",
   "nbconvert_exporter": "python",
   "pygments_lexer": "ipython3",
   "version": "3.10.16"
  }
 },
 "nbformat": 4,
 "nbformat_minor": 2
}
